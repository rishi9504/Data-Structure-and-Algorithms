{
 "cells": [
  {
   "cell_type": "code",
   "execution_count": 3,
   "id": "70692197-4663-4a51-81ba-eb687220690c",
   "metadata": {},
   "outputs": [
    {
     "name": "stdout",
     "output_type": "stream",
     "text": [
      "[0, 1]\n"
     ]
    }
   ],
   "source": [
    "# two sum\n",
    "\n",
    "def twoSum(nums,k):\n",
    "    num_dict = {}\n",
    "    for i,num in enumerate(nums):\n",
    "        comp = k-num\n",
    "        if comp in num_dict:\n",
    "            return [num_dict[comp],i]\n",
    "        num_dict[num] = i\n",
    "    return None\n",
    "\n",
    "test_nums = [2,7,11,15]\n",
    "test_k = 9\n",
    "print(twoSum(test_nums,test_k))  # Output: (0, 1)    \n",
    "\n",
    "            "
   ]
  },
  {
   "cell_type": "code",
   "execution_count": 4,
   "id": "72cdde79",
   "metadata": {},
   "outputs": [
    {
     "name": "stdout",
     "output_type": "stream",
     "text": [
      "True\n"
     ]
    }
   ],
   "source": [
    "# Contains Duplicate - Leetcode 217\n",
    "\n",
    "def containsDuplicate(nums):\n",
    "    num_set = set()\n",
    "    for num in nums:\n",
    "        if num in num_set:\n",
    "            return True\n",
    "        num_set.add(num)\n",
    "    return False    \n",
    "\n",
    "test_nums = [1,2,3,1]\n",
    "print(containsDuplicate(test_nums))  # Output: True"
   ]
  },
  {
   "cell_type": "code",
   "execution_count": 5,
   "id": "7cf7902e",
   "metadata": {},
   "outputs": [
    {
     "name": "stdout",
     "output_type": "stream",
     "text": [
      "True\n"
     ]
    }
   ],
   "source": [
    "def containsDuplicatev2(nums):\n",
    "    return len(nums) != len(set(nums))\n",
    "\n",
    "test_nums = [1,2,3,1]\n",
    "print(containsDuplicatev2(test_nums))  # Output: True"
   ]
  },
  {
   "cell_type": "code",
   "execution_count": 6,
   "id": "f77fa9b4",
   "metadata": {},
   "outputs": [
    {
     "name": "stdout",
     "output_type": "stream",
     "text": [
      "True\n"
     ]
    }
   ],
   "source": [
    "# contains duplicate 2 = Leetcode 219\n",
    "\n",
    "def containsNearbyDuplicate(nums,k):\n",
    "    num_dict = {}\n",
    "    for i,num in enumerate(nums):\n",
    "        if num in num_dict and i - num_dict[num] <= k:\n",
    "            return True\n",
    "        num_dict[num] = i\n",
    "    return False\n",
    "\n",
    "test_nums = [1,2,3,1]\n",
    "test_k = 3\n",
    "print(containsNearbyDuplicate(test_nums,test_k))  # Output: True"
   ]
  },
  {
   "cell_type": "code",
   "execution_count": 8,
   "id": "b22e343e",
   "metadata": {},
   "outputs": [
    {
     "name": "stdout",
     "output_type": "stream",
     "text": [
      "False\n"
     ]
    }
   ],
   "source": [
    "def isAnagram(s,t):\n",
    "    if len(s) != len(t):\n",
    "        return False\n",
    "    char_count = {}\n",
    "    for char in s:\n",
    "        char_count[char] = char_count.get(char,0) + 1\n",
    "    for char in t:\n",
    "        if char not in char_count or char_count[char] == 0:\n",
    "            return False\n",
    "        char_count[char] -= 1\n",
    "    return True\n",
    "\n",
    "test_s = \"taro\"\n",
    "test_t = \"star\"\n",
    "print(isAnagram(test_s,test_t))  # Output: True"
   ]
  },
  {
   "cell_type": "code",
   "execution_count": 10,
   "id": "7c33e01a",
   "metadata": {},
   "outputs": [
    {
     "name": "stdout",
     "output_type": "stream",
     "text": [
      "[['eat', 'tea', 'ate'], ['tan', 'nat'], ['bat']]\n"
     ]
    }
   ],
   "source": [
    "# 49. Group Anagrams - Leetcode 49\n",
    "import collections\n",
    "\n",
    "def groupAnagrams(strs):\n",
    "    ans = collections.defaultdict(list)\n",
    "    for s in strs:\n",
    "        count = [0] * 26\n",
    "        for c in s:\n",
    "            count[ord(c) - ord(\"a\")] += 1\n",
    "        ans[tuple(count)].append(s)\n",
    "    return list(ans.values())\n",
    "\n",
    "test_strs = [\"eat\",\"tea\",\"tan\",\"ate\",\"nat\",\"bat\"]\n",
    "print(groupAnagrams(test_strs))  # Output: [[\"eat\",\"tea\",\"ate\"],[\"tan\",\"nat\"],[\"bat\"]]\n",
    "\n",
    "\n"
   ]
  },
  {
   "cell_type": "code",
   "execution_count": 11,
   "id": "3367e0f1",
   "metadata": {},
   "outputs": [
    {
     "name": "stdout",
     "output_type": "stream",
     "text": [
      "[24, 12, 8, 6]\n"
     ]
    }
   ],
   "source": [
    "# Product of Array Except Self - Leetcode 238\n",
    "def productExceptSelf(nums):\n",
    "    length = len(nums)\n",
    "    answer = [0] * length\n",
    "    answer[0] = 1\n",
    "    for i in range(1,length):\n",
    "        answer[i] = nums[i-1] * answer[i-1]\n",
    "    R = 1\n",
    "    for i in range(length-1,-1,-1):\n",
    "        answer[i] = answer[i] * R\n",
    "        R *= nums[i]\n",
    "    return answer\n",
    "\n",
    "test_nums = [1,2,3,4]\n",
    "print(productExceptSelf(test_nums))  # Output: [24,12,8,6"
   ]
  },
  {
   "cell_type": "code",
   "execution_count": 12,
   "id": "e9bf912a",
   "metadata": {},
   "outputs": [
    {
     "name": "stdout",
     "output_type": "stream",
     "text": [
      "[1, 2]\n"
     ]
    }
   ],
   "source": [
    "# top k frequesnt elements - Leetcode 347\n",
    "import heapq\n",
    "def topKFrequent(nums,k):\n",
    "    count = {}\n",
    "    for num in nums:\n",
    "        count[num] = count.get(num,0) + 1\n",
    "    return heapq.nlargest(k, count.keys(), key=lambda x: count[x])\n",
    "\n",
    "test_nums = [1,1,1,2,2,3]\n",
    "test_k = 2\n",
    "print(topKFrequent(test_nums, test_k))  # Output: [1, 2]"
   ]
  },
  {
   "cell_type": "code",
   "execution_count": 13,
   "id": "454ab4d6",
   "metadata": {},
   "outputs": [
    {
     "name": "stdout",
     "output_type": "stream",
     "text": [
      "1994\n"
     ]
    }
   ],
   "source": [
    "# roman to integar - Leetcode 13\n",
    "def romanToInt(s):\n",
    "    roman_dict = {\n",
    "        'I': 1,\n",
    "        'V': 5,\n",
    "        'X': 10,\n",
    "        'L': 50,\n",
    "        'C': 100,\n",
    "        'D': 500,\n",
    "        'M': 1000\n",
    "    }\n",
    "    total = 0\n",
    "    prev_value = 0\n",
    "    for char in reversed(s):\n",
    "        value = roman_dict[char]\n",
    "        if value < prev_value:\n",
    "            total -= value\n",
    "        else:\n",
    "            total += value\n",
    "        prev_value = value\n",
    "    return total\n",
    "\n",
    "test_s = \"MCMXCIV\"\n",
    "print(romanToInt(test_s))  # Output: 1994"
   ]
  },
  {
   "cell_type": "code",
   "execution_count": null,
   "id": "60890717",
   "metadata": {},
   "outputs": [],
   "source": []
  }
 ],
 "metadata": {
  "kernelspec": {
   "display_name": "Python 3",
   "language": "python",
   "name": "python3"
  },
  "language_info": {
   "codemirror_mode": {
    "name": "ipython",
    "version": 3
   },
   "file_extension": ".py",
   "mimetype": "text/x-python",
   "name": "python",
   "nbconvert_exporter": "python",
   "pygments_lexer": "ipython3",
   "version": "3.13.9"
  }
 },
 "nbformat": 4,
 "nbformat_minor": 5
}
